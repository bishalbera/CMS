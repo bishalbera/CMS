{
 "cells": [
  {
   "cell_type": "code",
   "execution_count": null,
   "metadata": {},
   "outputs": [],
   "source": [
    "\n",
    "from dotenv import load_dotenv\n",
    "\n",
    "load_dotenv()\n",
    "\n"
   ]
  },
  {
   "cell_type": "code",
   "execution_count": null,
   "metadata": {},
   "outputs": [],
   "source": [
    "import requests\n",
    "\n",
    "url = \"https://storage.googleapis.com/benchmarks-artifacts/chinook/Chinook.db\"\n",
    "\n",
    "response = requests.get(url)\n",
    "\n",
    "if response.status_code == 200:\n",
    "    with open(\"music_store.db\", \"wb\") as file:\n",
    "        file.write(response.content)\n",
    "    print(\"File downloaded and saved as music_store.db\")\n",
    "else:\n",
    "    print(f\"Failed to download the file. Status code: {response.status_code}\")"
   ]
  },
  {
   "cell_type": "code",
   "execution_count": null,
   "metadata": {},
   "outputs": [],
   "source": [
    "import sqlite3\n",
    "\n",
    "conn = sqlite3.connect(\"music_store.db\")\n",
    "cursor = conn.cursor()\n",
    "\n",
    "cursor.execute(\"SELECT name FROM sqlite_master WHERE type='table';\")\n",
    "tables = cursor.fetchall()\n",
    "\n",
    "print(\"Tables in the database:\")\n",
    "for table in tables:\n",
    "    print(table[0])\n",
    "\n",
    "conn.close()"
   ]
  },
  {
   "cell_type": "code",
   "execution_count": null,
   "metadata": {},
   "outputs": [],
   "source": [
    "import sqlite3\n",
    "\n",
    "import psycopg2\n",
    "\n",
    "import os\n",
    "sqlite_conn = sqlite3.connect(\"music_store.db\")\n",
    "sqlite_cursor = sqlite_conn.cursor()\n",
    "\n",
    "pg_conn = psycopg2.connect(\n",
    "    dbname= os.environ[\"DB_NAME\"],\n",
    "    user= os.environ[\"DB_USER\"],\n",
    "    password= os.environ[\"DB_PASSWORD\"],\n",
    "    host= os.environ[\"DB_HOST\"],\n",
    "    port= os.environ[\"DB_PORT\"]\n",
    ")\n",
    "pg_cursor = pg_conn.cursor()\n",
    "\n",
    "sqlite_cursor.execute(\"SELECT name FROM sqlite_master WHERE type='table';\")\n",
    "tables = sqlite_cursor.fetchall()\n",
    "\n",
    "for table in tables:\n",
    "    table_name = table[0]\n",
    "    sqlite_cursor.execute(f\"PRAGMA table_info({table_name});\")\n",
    "    columns = sqlite_cursor.fetchall()\n",
    "    column_names = [column[1] for column in columns]\n",
    "    \n",
    "    create_table_query = f\"CREATE TABLE {table_name} (\"\n",
    "    create_table_query += \", \".join([f\"{column[1]} {column[2].replace('NVARCHAR', 'VARCHAR').replace('DATETIME', 'TIMESTAMP')}\" for column in columns])\n",
    "    create_table_query += \");\"\n",
    "    pg_cursor.execute(create_table_query)\n",
    "    \n",
    "    sqlite_cursor.execute(f\"SELECT * FROM {table_name};\")\n",
    "    rows = sqlite_cursor.fetchall()\n",
    "    for row in rows:\n",
    "        placeholders = \", \".join([\"%s\"] * len(row))\n",
    "        insert_query = f\"INSERT INTO {table_name} ({', '.join(column_names)}) VALUES ({placeholders});\"\n",
    "        pg_cursor.execute(insert_query, row)\n",
    "\n",
    "pg_conn.commit()\n",
    "pg_cursor.close()\n",
    "pg_conn.close()\n",
    "sqlite_cursor.close()\n",
    "sqlite_conn.close()"
   ]
  },
  {
   "cell_type": "code",
   "execution_count": null,
   "metadata": {},
   "outputs": [],
   "source": []
  }
 ],
 "metadata": {
  "kernelspec": {
   "display_name": "venv",
   "language": "python",
   "name": "python3"
  },
  "language_info": {
   "codemirror_mode": {
    "name": "ipython",
    "version": 3
   },
   "file_extension": ".py",
   "mimetype": "text/x-python",
   "name": "python",
   "nbconvert_exporter": "python",
   "pygments_lexer": "ipython3",
   "version": "3.13.1"
  }
 },
 "nbformat": 4,
 "nbformat_minor": 2
}
